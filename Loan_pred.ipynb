{
  "nbformat": 4,
  "nbformat_minor": 0,
  "metadata": {
    "colab": {
      "name": "Loan_pred.ipynb",
      "provenance": [],
      "collapsed_sections": []
    },
    "kernelspec": {
      "name": "python3",
      "display_name": "Python 3"
    },
    "language_info": {
      "name": "python"
    }
  },
  "cells": [
    {
      "cell_type": "code",
      "metadata": {
        "id": "P7niJ1ecbTse"
      },
      "source": [
        "#importing the libraries\n",
        "import pandas as pd\n",
        "import numpy as np\n",
        "import seaborn as sns\n",
        "%matplotlib inline\n",
        "import matplotlib.pyplot as plt"
      ],
      "execution_count": null,
      "outputs": []
    },
    {
      "cell_type": "code",
      "metadata": {
        "colab": {
          "resources": {
            "http://localhost:8080/nbextensions/google.colab/files.js": {
              "data": "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",
              "ok": true,
              "headers": [
                [
                  "content-type",
                  "application/javascript"
                ]
              ],
              "status": 200,
              "status_text": ""
            }
          },
          "base_uri": "https://localhost:8080/",
          "height": 74
        },
        "id": "dCF79FN_bXcn",
        "outputId": "457e921a-36c4-4abf-a9e6-9171c230bd72"
      },
      "source": [
        "#Running the command to import the files\n",
        "from google.colab import files\n",
        "uploaded =files.upload()\n"
      ],
      "execution_count": null,
      "outputs": [
        {
          "output_type": "display_data",
          "data": {
            "text/html": [
              "\n",
              "     <input type=\"file\" id=\"files-694147e1-7242-4a94-b5cb-b5c0ba7d0ccd\" name=\"files[]\" multiple disabled\n",
              "        style=\"border:none\" />\n",
              "     <output id=\"result-694147e1-7242-4a94-b5cb-b5c0ba7d0ccd\">\n",
              "      Upload widget is only available when the cell has been executed in the\n",
              "      current browser session. Please rerun this cell to enable.\n",
              "      </output>\n",
              "      <script src=\"/nbextensions/google.colab/files.js\"></script> "
            ],
            "text/plain": [
              "<IPython.core.display.HTML object>"
            ]
          },
          "metadata": {}
        },
        {
          "output_type": "stream",
          "name": "stdout",
          "text": [
            "Saving test_loan_pred - test_lAUu6dG.csv to test_loan_pred - test_lAUu6dG (1).csv\n"
          ]
        }
      ]
    },
    {
      "cell_type": "code",
      "metadata": {
        "id": "4EDZrI1ebfva"
      },
      "source": [
        "loan_pred_train=pd.read_csv('train_loan_pred - train_ctrUa4K.csv')"
      ],
      "execution_count": null,
      "outputs": []
    },
    {
      "cell_type": "code",
      "metadata": {
        "id": "G338Z3TIbqpH"
      },
      "source": [
        "loan_pred_test=pd.read_csv('test_loan_pred - test_lAUu6dG.csv')"
      ],
      "execution_count": null,
      "outputs": []
    },
    {
      "cell_type": "code",
      "metadata": {
        "colab": {
          "base_uri": "https://localhost:8080/"
        },
        "id": "tsyJm3fWb-BU",
        "outputId": "d3becb5b-4ec4-46e1-b075-16d16ebda4f2"
      },
      "source": [
        "loan_pred_train.isnull().sum()"
      ],
      "execution_count": null,
      "outputs": [
        {
          "output_type": "execute_result",
          "data": {
            "text/plain": [
              "Loan_ID              0\n",
              "Gender               0\n",
              "Married              0\n",
              "Dependents           0\n",
              "Education            0\n",
              "Self_Employed        0\n",
              "ApplicantIncome      0\n",
              "CoapplicantIncome    0\n",
              "LoanAmount           0\n",
              "Loan_Amount_Term     0\n",
              "Credit_History       0\n",
              "Property_Area        0\n",
              "Loan_Status          0\n",
              "dtype: int64"
            ]
          },
          "metadata": {},
          "execution_count": 56
        }
      ]
    },
    {
      "cell_type": "code",
      "metadata": {
        "colab": {
          "base_uri": "https://localhost:8080/"
        },
        "id": "dYLW--fLcG4F",
        "outputId": "826072b9-e4c3-4e54-ca35-349e0a7ae81e"
      },
      "source": [
        "loan_pred_test.isnull().sum()"
      ],
      "execution_count": null,
      "outputs": [
        {
          "output_type": "execute_result",
          "data": {
            "text/plain": [
              "Loan_ID              0\n",
              "Gender               0\n",
              "Married              0\n",
              "Dependents           0\n",
              "Education            0\n",
              "Self_Employed        0\n",
              "ApplicantIncome      0\n",
              "CoapplicantIncome    0\n",
              "LoanAmount           0\n",
              "Loan_Amount_Term     0\n",
              "Credit_History       0\n",
              "Property_Area        0\n",
              "dtype: int64"
            ]
          },
          "metadata": {},
          "execution_count": 57
        }
      ]
    },
    {
      "cell_type": "code",
      "metadata": {
        "colab": {
          "base_uri": "https://localhost:8080/",
          "height": 50
        },
        "id": "CkXNKBugcbBW",
        "outputId": "57d9ecec-47d8-46b0-cd36-a511b44d754c"
      },
      "source": [
        "loan_pred_train.head(0)"
      ],
      "execution_count": null,
      "outputs": [
        {
          "output_type": "execute_result",
          "data": {
            "text/html": [
              "<div>\n",
              "<style scoped>\n",
              "    .dataframe tbody tr th:only-of-type {\n",
              "        vertical-align: middle;\n",
              "    }\n",
              "\n",
              "    .dataframe tbody tr th {\n",
              "        vertical-align: top;\n",
              "    }\n",
              "\n",
              "    .dataframe thead th {\n",
              "        text-align: right;\n",
              "    }\n",
              "</style>\n",
              "<table border=\"1\" class=\"dataframe\">\n",
              "  <thead>\n",
              "    <tr style=\"text-align: right;\">\n",
              "      <th></th>\n",
              "      <th>Loan_ID</th>\n",
              "      <th>Gender</th>\n",
              "      <th>Married</th>\n",
              "      <th>Dependents</th>\n",
              "      <th>Education</th>\n",
              "      <th>Self_Employed</th>\n",
              "      <th>ApplicantIncome</th>\n",
              "      <th>CoapplicantIncome</th>\n",
              "      <th>LoanAmount</th>\n",
              "      <th>Loan_Amount_Term</th>\n",
              "      <th>Credit_History</th>\n",
              "      <th>Property_Area</th>\n",
              "      <th>Loan_Status</th>\n",
              "    </tr>\n",
              "  </thead>\n",
              "  <tbody>\n",
              "  </tbody>\n",
              "</table>\n",
              "</div>"
            ],
            "text/plain": [
              "Empty DataFrame\n",
              "Columns: [Loan_ID, Gender, Married, Dependents, Education, Self_Employed, ApplicantIncome, CoapplicantIncome, LoanAmount, Loan_Amount_Term, Credit_History, Property_Area, Loan_Status]\n",
              "Index: []"
            ]
          },
          "metadata": {},
          "execution_count": 58
        }
      ]
    },
    {
      "cell_type": "code",
      "metadata": {
        "id": "dU99wrz4cL1W"
      },
      "source": [
        "#Dropping the unnecessary columns in loan_pred_train\n",
        "loan_pred_train=loan_pred_train.drop('Loan_ID',axis=1)\n"
      ],
      "execution_count": null,
      "outputs": []
    },
    {
      "cell_type": "code",
      "metadata": {
        "colab": {
          "base_uri": "https://localhost:8080/",
          "height": 50
        },
        "id": "799tbB-Qdqy0",
        "outputId": "1997bf9d-71f2-48df-ddef-4c0f8c212d7a"
      },
      "source": [
        "loan_pred_train.head(0)"
      ],
      "execution_count": null,
      "outputs": [
        {
          "output_type": "execute_result",
          "data": {
            "text/html": [
              "<div>\n",
              "<style scoped>\n",
              "    .dataframe tbody tr th:only-of-type {\n",
              "        vertical-align: middle;\n",
              "    }\n",
              "\n",
              "    .dataframe tbody tr th {\n",
              "        vertical-align: top;\n",
              "    }\n",
              "\n",
              "    .dataframe thead th {\n",
              "        text-align: right;\n",
              "    }\n",
              "</style>\n",
              "<table border=\"1\" class=\"dataframe\">\n",
              "  <thead>\n",
              "    <tr style=\"text-align: right;\">\n",
              "      <th></th>\n",
              "      <th>Gender</th>\n",
              "      <th>Married</th>\n",
              "      <th>Dependents</th>\n",
              "      <th>Education</th>\n",
              "      <th>Self_Employed</th>\n",
              "      <th>ApplicantIncome</th>\n",
              "      <th>CoapplicantIncome</th>\n",
              "      <th>LoanAmount</th>\n",
              "      <th>Loan_Amount_Term</th>\n",
              "      <th>Credit_History</th>\n",
              "      <th>Property_Area</th>\n",
              "      <th>Loan_Status</th>\n",
              "    </tr>\n",
              "  </thead>\n",
              "  <tbody>\n",
              "  </tbody>\n",
              "</table>\n",
              "</div>"
            ],
            "text/plain": [
              "Empty DataFrame\n",
              "Columns: [Gender, Married, Dependents, Education, Self_Employed, ApplicantIncome, CoapplicantIncome, LoanAmount, Loan_Amount_Term, Credit_History, Property_Area, Loan_Status]\n",
              "Index: []"
            ]
          },
          "metadata": {},
          "execution_count": 60
        }
      ]
    },
    {
      "cell_type": "code",
      "metadata": {
        "colab": {
          "base_uri": "https://localhost:8080/",
          "height": 50
        },
        "id": "2x_a7FpneoG5",
        "outputId": "32f21d9d-376c-4786-cd52-0ea88edadd54"
      },
      "source": [
        "loan_pred_test.head(0)"
      ],
      "execution_count": null,
      "outputs": [
        {
          "output_type": "execute_result",
          "data": {
            "text/html": [
              "<div>\n",
              "<style scoped>\n",
              "    .dataframe tbody tr th:only-of-type {\n",
              "        vertical-align: middle;\n",
              "    }\n",
              "\n",
              "    .dataframe tbody tr th {\n",
              "        vertical-align: top;\n",
              "    }\n",
              "\n",
              "    .dataframe thead th {\n",
              "        text-align: right;\n",
              "    }\n",
              "</style>\n",
              "<table border=\"1\" class=\"dataframe\">\n",
              "  <thead>\n",
              "    <tr style=\"text-align: right;\">\n",
              "      <th></th>\n",
              "      <th>Loan_ID</th>\n",
              "      <th>Gender</th>\n",
              "      <th>Married</th>\n",
              "      <th>Dependents</th>\n",
              "      <th>Education</th>\n",
              "      <th>Self_Employed</th>\n",
              "      <th>ApplicantIncome</th>\n",
              "      <th>CoapplicantIncome</th>\n",
              "      <th>LoanAmount</th>\n",
              "      <th>Loan_Amount_Term</th>\n",
              "      <th>Credit_History</th>\n",
              "      <th>Property_Area</th>\n",
              "    </tr>\n",
              "  </thead>\n",
              "  <tbody>\n",
              "  </tbody>\n",
              "</table>\n",
              "</div>"
            ],
            "text/plain": [
              "Empty DataFrame\n",
              "Columns: [Loan_ID, Gender, Married, Dependents, Education, Self_Employed, ApplicantIncome, CoapplicantIncome, LoanAmount, Loan_Amount_Term, Credit_History, Property_Area]\n",
              "Index: []"
            ]
          },
          "metadata": {},
          "execution_count": 61
        }
      ]
    },
    {
      "cell_type": "code",
      "metadata": {
        "id": "IKSB9LNVd0BP"
      },
      "source": [
        "#Dropping the unnecessary columns in loan_pred_test\n",
        "loan_pred_test=loan_pred_test.drop('Loan_ID',axis=1)\n",
        "\n"
      ],
      "execution_count": null,
      "outputs": []
    },
    {
      "cell_type": "code",
      "metadata": {
        "colab": {
          "base_uri": "https://localhost:8080/"
        },
        "id": "R52kBQ8We0bt",
        "outputId": "d5f1f4cc-41da-4330-8c3b-cae58f4ff1d6"
      },
      "source": [
        "loan_pred_train.info()"
      ],
      "execution_count": null,
      "outputs": [
        {
          "output_type": "stream",
          "name": "stdout",
          "text": [
            "<class 'pandas.core.frame.DataFrame'>\n",
            "RangeIndex: 592 entries, 0 to 591\n",
            "Data columns (total 12 columns):\n",
            " #   Column             Non-Null Count  Dtype  \n",
            "---  ------             --------------  -----  \n",
            " 0   Gender             592 non-null    object \n",
            " 1   Married            592 non-null    object \n",
            " 2   Dependents         592 non-null    int64  \n",
            " 3   Education          592 non-null    object \n",
            " 4   Self_Employed      592 non-null    object \n",
            " 5   ApplicantIncome    592 non-null    int64  \n",
            " 6   CoapplicantIncome  592 non-null    float64\n",
            " 7   LoanAmount         592 non-null    int64  \n",
            " 8   Loan_Amount_Term   592 non-null    int64  \n",
            " 9   Credit_History     592 non-null    int64  \n",
            " 10  Property_Area      592 non-null    object \n",
            " 11  Loan_Status        592 non-null    object \n",
            "dtypes: float64(1), int64(5), object(6)\n",
            "memory usage: 55.6+ KB\n"
          ]
        }
      ]
    },
    {
      "cell_type": "code",
      "metadata": {
        "colab": {
          "base_uri": "https://localhost:8080/"
        },
        "id": "Uqw5c9pre7QR",
        "outputId": "8dd45186-5e35-43af-c50c-08755f2c77c3"
      },
      "source": [
        "loan_pred_test.info()"
      ],
      "execution_count": null,
      "outputs": [
        {
          "output_type": "stream",
          "name": "stdout",
          "text": [
            "<class 'pandas.core.frame.DataFrame'>\n",
            "RangeIndex: 367 entries, 0 to 366\n",
            "Data columns (total 11 columns):\n",
            " #   Column             Non-Null Count  Dtype \n",
            "---  ------             --------------  ----- \n",
            " 0   Gender             367 non-null    object\n",
            " 1   Married            367 non-null    object\n",
            " 2   Dependents         367 non-null    int64 \n",
            " 3   Education          367 non-null    object\n",
            " 4   Self_Employed      367 non-null    object\n",
            " 5   ApplicantIncome    367 non-null    int64 \n",
            " 6   CoapplicantIncome  367 non-null    int64 \n",
            " 7   LoanAmount         367 non-null    int64 \n",
            " 8   Loan_Amount_Term   367 non-null    int64 \n",
            " 9   Credit_History     367 non-null    int64 \n",
            " 10  Property_Area      367 non-null    object\n",
            "dtypes: int64(6), object(5)\n",
            "memory usage: 31.7+ KB\n"
          ]
        }
      ]
    },
    {
      "cell_type": "code",
      "metadata": {
        "colab": {
          "base_uri": "https://localhost:8080/"
        },
        "id": "we3-POrJfAsC",
        "outputId": "5cef0768-ef8f-4b7f-9da0-6c94fda22d7e"
      },
      "source": [
        "!pip install klib\n",
        "import klib"
      ],
      "execution_count": null,
      "outputs": [
        {
          "output_type": "stream",
          "name": "stdout",
          "text": [
            "Requirement already satisfied: klib in /usr/local/lib/python3.7/dist-packages (0.2.1)\n",
            "Requirement already satisfied: numpy>=1.16.3 in /usr/local/lib/python3.7/dist-packages (from klib) (1.19.5)\n",
            "Requirement already satisfied: matplotlib>=3.0.3 in /usr/local/lib/python3.7/dist-packages (from klib) (3.2.2)\n",
            "Requirement already satisfied: scikit-learn>=0.23.1 in /usr/local/lib/python3.7/dist-packages (from klib) (1.0.1)\n",
            "Requirement already satisfied: pandas>=1.1.2 in /usr/local/lib/python3.7/dist-packages (from klib) (1.1.5)\n",
            "Requirement already satisfied: scipy>=1.1.0 in /usr/local/lib/python3.7/dist-packages (from klib) (1.4.1)\n",
            "Requirement already satisfied: seaborn>=0.11.1 in /usr/local/lib/python3.7/dist-packages (from klib) (0.11.2)\n",
            "Requirement already satisfied: kiwisolver>=1.0.1 in /usr/local/lib/python3.7/dist-packages (from matplotlib>=3.0.3->klib) (1.3.2)\n",
            "Requirement already satisfied: python-dateutil>=2.1 in /usr/local/lib/python3.7/dist-packages (from matplotlib>=3.0.3->klib) (2.8.2)\n",
            "Requirement already satisfied: cycler>=0.10 in /usr/local/lib/python3.7/dist-packages (from matplotlib>=3.0.3->klib) (0.11.0)\n",
            "Requirement already satisfied: pyparsing!=2.0.4,!=2.1.2,!=2.1.6,>=2.0.1 in /usr/local/lib/python3.7/dist-packages (from matplotlib>=3.0.3->klib) (3.0.6)\n",
            "Requirement already satisfied: pytz>=2017.2 in /usr/local/lib/python3.7/dist-packages (from pandas>=1.1.2->klib) (2018.9)\n",
            "Requirement already satisfied: six>=1.5 in /usr/local/lib/python3.7/dist-packages (from python-dateutil>=2.1->matplotlib>=3.0.3->klib) (1.15.0)\n",
            "Requirement already satisfied: joblib>=0.11 in /usr/local/lib/python3.7/dist-packages (from scikit-learn>=0.23.1->klib) (1.1.0)\n",
            "Requirement already satisfied: threadpoolctl>=2.0.0 in /usr/local/lib/python3.7/dist-packages (from scikit-learn>=0.23.1->klib) (3.0.0)\n"
          ]
        }
      ]
    },
    {
      "cell_type": "code",
      "metadata": {
        "colab": {
          "base_uri": "https://localhost:8080/",
          "height": 1000
        },
        "id": "bFAf-nYTfPno",
        "outputId": "35a5aaec-859a-4e3a-fe6e-2cce5f16f3ed"
      },
      "source": [
        "klib.cat_plot(loan_pred_train)"
      ],
      "execution_count": null,
      "outputs": [
        {
          "output_type": "execute_result",
          "data": {
            "text/plain": [
              "GridSpec(6, 6)"
            ]
          },
          "metadata": {},
          "execution_count": 66
        },
        {
          "output_type": "display_data",
          "data": {
            "image/png": "[encoded data removed]",
            "text/plain": [
              "<Figure size 1296x1296 with 13 Axes>"
            ]
          },
          "metadata": {
            "needs_background": "light"
          }
        }
      ]
    },
    {
      "cell_type": "code",
      "metadata": {
        "colab": {
          "base_uri": "https://localhost:8080/",
          "height": 237
        },
        "id": "RphwJrnrfkmt",
        "outputId": "c3ed22d3-d70a-4e1b-c3a6-3f749eaf912a"
      },
      "source": [
        "klib.corr_mat(loan_pred_train) # returns a color-encoded correlation matrix"
      ],
      "execution_count": null,
      "outputs": [
        {
          "output_type": "execute_result",
          "data": {
            "text/html": [
              "<style  type=\"text/css\" >\n",
              "#T_ffb871ee_4ee6_11ec_ba20_0242ac1c0002row0_col0,#T_ffb871ee_4ee6_11ec_ba20_0242ac1c0002row0_col1,#T_ffb871ee_4ee6_11ec_ba20_0242ac1c0002row0_col2,#T_ffb871ee_4ee6_11ec_ba20_0242ac1c0002row0_col3,#T_ffb871ee_4ee6_11ec_ba20_0242ac1c0002row1_col0,#T_ffb871ee_4ee6_11ec_ba20_0242ac1c0002row1_col1,#T_ffb871ee_4ee6_11ec_ba20_0242ac1c0002row1_col3,#T_ffb871ee_4ee6_11ec_ba20_0242ac1c0002row2_col0,#T_ffb871ee_4ee6_11ec_ba20_0242ac1c0002row2_col2,#T_ffb871ee_4ee6_11ec_ba20_0242ac1c0002row2_col3,#T_ffb871ee_4ee6_11ec_ba20_0242ac1c0002row3_col0,#T_ffb871ee_4ee6_11ec_ba20_0242ac1c0002row3_col1,#T_ffb871ee_4ee6_11ec_ba20_0242ac1c0002row3_col2,#T_ffb871ee_4ee6_11ec_ba20_0242ac1c0002row3_col3,#T_ffb871ee_4ee6_11ec_ba20_0242ac1c0002row3_col4,#T_ffb871ee_4ee6_11ec_ba20_0242ac1c0002row4_col3,#T_ffb871ee_4ee6_11ec_ba20_0242ac1c0002row4_col4,#T_ffb871ee_4ee6_11ec_ba20_0242ac1c0002row4_col5,#T_ffb871ee_4ee6_11ec_ba20_0242ac1c0002row5_col4,#T_ffb871ee_4ee6_11ec_ba20_0242ac1c0002row5_col5{\n",
              "            color:  None;\n",
              "        }#T_ffb871ee_4ee6_11ec_ba20_0242ac1c0002row0_col4,#T_ffb871ee_4ee6_11ec_ba20_0242ac1c0002row0_col5,#T_ffb871ee_4ee6_11ec_ba20_0242ac1c0002row1_col2,#T_ffb871ee_4ee6_11ec_ba20_0242ac1c0002row1_col4,#T_ffb871ee_4ee6_11ec_ba20_0242ac1c0002row1_col5,#T_ffb871ee_4ee6_11ec_ba20_0242ac1c0002row2_col1,#T_ffb871ee_4ee6_11ec_ba20_0242ac1c0002row2_col4,#T_ffb871ee_4ee6_11ec_ba20_0242ac1c0002row2_col5,#T_ffb871ee_4ee6_11ec_ba20_0242ac1c0002row3_col5,#T_ffb871ee_4ee6_11ec_ba20_0242ac1c0002row4_col0,#T_ffb871ee_4ee6_11ec_ba20_0242ac1c0002row4_col1,#T_ffb871ee_4ee6_11ec_ba20_0242ac1c0002row4_col2,#T_ffb871ee_4ee6_11ec_ba20_0242ac1c0002row5_col0,#T_ffb871ee_4ee6_11ec_ba20_0242ac1c0002row5_col1,#T_ffb871ee_4ee6_11ec_ba20_0242ac1c0002row5_col2,#T_ffb871ee_4ee6_11ec_ba20_0242ac1c0002row5_col3{\n",
              "            color:  #FF3344;\n",
              "        }</style><table id=\"T_ffb871ee_4ee6_11ec_ba20_0242ac1c0002\" class=\"dataframe\"><thead>    <tr>        <th class=\"blank level0\" ></th>        <th class=\"col_heading level0 col0\" >Dependents</th>        <th class=\"col_heading level0 col1\" >ApplicantIncome</th>        <th class=\"col_heading level0 col2\" >CoapplicantIncome</th>        <th class=\"col_heading level0 col3\" >LoanAmount</th>        <th class=\"col_heading level0 col4\" >Loan_Amount_Term</th>        <th class=\"col_heading level0 col5\" >Credit_History</th>    </tr></thead><tbody>\n",
              "                <tr>\n",
              "                        <th id=\"T_ffb871ee_4ee6_11ec_ba20_0242ac1c0002level0_row0\" class=\"row_heading level0 row0\" >Dependents</th>\n",
              "                        <td id=\"T_ffb871ee_4ee6_11ec_ba20_0242ac1c0002row0_col0\" class=\"data row0 col0\" >1.00</td>\n",
              "                        <td id=\"T_ffb871ee_4ee6_11ec_ba20_0242ac1c0002row0_col1\" class=\"data row0 col1\" >0.14</td>\n",
              "                        <td id=\"T_ffb871ee_4ee6_11ec_ba20_0242ac1c0002row0_col2\" class=\"data row0 col2\" >0.04</td>\n",
              "                        <td id=\"T_ffb871ee_4ee6_11ec_ba20_0242ac1c0002row0_col3\" class=\"data row0 col3\" >0.17</td>\n",
              "                        <td id=\"T_ffb871ee_4ee6_11ec_ba20_0242ac1c0002row0_col4\" class=\"data row0 col4\" >-0.05</td>\n",
              "                        <td id=\"T_ffb871ee_4ee6_11ec_ba20_0242ac1c0002row0_col5\" class=\"data row0 col5\" >-0.07</td>\n",
              "            </tr>\n",
              "            <tr>\n",
              "                        <th id=\"T_ffb871ee_4ee6_11ec_ba20_0242ac1c0002level0_row1\" class=\"row_heading level0 row1\" >ApplicantIncome</th>\n",
              "                        <td id=\"T_ffb871ee_4ee6_11ec_ba20_0242ac1c0002row1_col0\" class=\"data row1 col0\" >0.14</td>\n",
              "                        <td id=\"T_ffb871ee_4ee6_11ec_ba20_0242ac1c0002row1_col1\" class=\"data row1 col1\" >1.00</td>\n",
              "                        <td id=\"T_ffb871ee_4ee6_11ec_ba20_0242ac1c0002row1_col2\" class=\"data row1 col2\" >-0.11</td>\n",
              "                        <td id=\"T_ffb871ee_4ee6_11ec_ba20_0242ac1c0002row1_col3\" class=\"data row1 col3\" >0.57</td>\n",
              "                        <td id=\"T_ffb871ee_4ee6_11ec_ba20_0242ac1c0002row1_col4\" class=\"data row1 col4\" >-0.03</td>\n",
              "                        <td id=\"T_ffb871ee_4ee6_11ec_ba20_0242ac1c0002row1_col5\" class=\"data row1 col5\" >-0.01</td>\n",
              "            </tr>\n",
              "            <tr>\n",
              "                        <th id=\"T_ffb871ee_4ee6_11ec_ba20_0242ac1c0002level0_row2\" class=\"row_heading level0 row2\" >CoapplicantIncome</th>\n",
              "                        <td id=\"T_ffb871ee_4ee6_11ec_ba20_0242ac1c0002row2_col0\" class=\"data row2 col0\" >0.04</td>\n",
              "                        <td id=\"T_ffb871ee_4ee6_11ec_ba20_0242ac1c0002row2_col1\" class=\"data row2 col1\" >-0.11</td>\n",
              "                        <td id=\"T_ffb871ee_4ee6_11ec_ba20_0242ac1c0002row2_col2\" class=\"data row2 col2\" >1.00</td>\n",
              "                        <td id=\"T_ffb871ee_4ee6_11ec_ba20_0242ac1c0002row2_col3\" class=\"data row2 col3\" >0.19</td>\n",
              "                        <td id=\"T_ffb871ee_4ee6_11ec_ba20_0242ac1c0002row2_col4\" class=\"data row2 col4\" >-0.05</td>\n",
              "                        <td id=\"T_ffb871ee_4ee6_11ec_ba20_0242ac1c0002row2_col5\" class=\"data row2 col5\" >-0.06</td>\n",
              "            </tr>\n",
              "            <tr>\n",
              "                        <th id=\"T_ffb871ee_4ee6_11ec_ba20_0242ac1c0002level0_row3\" class=\"row_heading level0 row3\" >LoanAmount</th>\n",
              "                        <td id=\"T_ffb871ee_4ee6_11ec_ba20_0242ac1c0002row3_col0\" class=\"data row3 col0\" >0.17</td>\n",
              "                        <td id=\"T_ffb871ee_4ee6_11ec_ba20_0242ac1c0002row3_col1\" class=\"data row3 col1\" >0.57</td>\n",
              "                        <td id=\"T_ffb871ee_4ee6_11ec_ba20_0242ac1c0002row3_col2\" class=\"data row3 col2\" >0.19</td>\n",
              "                        <td id=\"T_ffb871ee_4ee6_11ec_ba20_0242ac1c0002row3_col3\" class=\"data row3 col3\" >1.00</td>\n",
              "                        <td id=\"T_ffb871ee_4ee6_11ec_ba20_0242ac1c0002row3_col4\" class=\"data row3 col4\" >0.06</td>\n",
              "                        <td id=\"T_ffb871ee_4ee6_11ec_ba20_0242ac1c0002row3_col5\" class=\"data row3 col5\" >-0.02</td>\n",
              "            </tr>\n",
              "            <tr>\n",
              "                        <th id=\"T_ffb871ee_4ee6_11ec_ba20_0242ac1c0002level0_row4\" class=\"row_heading level0 row4\" >Loan_Amount_Term</th>\n",
              "                        <td id=\"T_ffb871ee_4ee6_11ec_ba20_0242ac1c0002row4_col0\" class=\"data row4 col0\" >-0.05</td>\n",
              "                        <td id=\"T_ffb871ee_4ee6_11ec_ba20_0242ac1c0002row4_col1\" class=\"data row4 col1\" >-0.03</td>\n",
              "                        <td id=\"T_ffb871ee_4ee6_11ec_ba20_0242ac1c0002row4_col2\" class=\"data row4 col2\" >-0.05</td>\n",
              "                        <td id=\"T_ffb871ee_4ee6_11ec_ba20_0242ac1c0002row4_col3\" class=\"data row4 col3\" >0.06</td>\n",
              "                        <td id=\"T_ffb871ee_4ee6_11ec_ba20_0242ac1c0002row4_col4\" class=\"data row4 col4\" >1.00</td>\n",
              "                        <td id=\"T_ffb871ee_4ee6_11ec_ba20_0242ac1c0002row4_col5\" class=\"data row4 col5\" >0.06</td>\n",
              "            </tr>\n",
              "            <tr>\n",
              "                        <th id=\"T_ffb871ee_4ee6_11ec_ba20_0242ac1c0002level0_row5\" class=\"row_heading level0 row5\" >Credit_History</th>\n",
              "                        <td id=\"T_ffb871ee_4ee6_11ec_ba20_0242ac1c0002row5_col0\" class=\"data row5 col0\" >-0.07</td>\n",
              "                        <td id=\"T_ffb871ee_4ee6_11ec_ba20_0242ac1c0002row5_col1\" class=\"data row5 col1\" >-0.01</td>\n",
              "                        <td id=\"T_ffb871ee_4ee6_11ec_ba20_0242ac1c0002row5_col2\" class=\"data row5 col2\" >-0.06</td>\n",
              "                        <td id=\"T_ffb871ee_4ee6_11ec_ba20_0242ac1c0002row5_col3\" class=\"data row5 col3\" >-0.02</td>\n",
              "                        <td id=\"T_ffb871ee_4ee6_11ec_ba20_0242ac1c0002row5_col4\" class=\"data row5 col4\" >0.06</td>\n",
              "                        <td id=\"T_ffb871ee_4ee6_11ec_ba20_0242ac1c0002row5_col5\" class=\"data row5 col5\" >1.00</td>\n",
              "            </tr>\n",
              "    </tbody></table>"
            ],
            "text/plain": [
              "<pandas.io.formats.style.Styler at 0x7ff2783df350>"
            ]
          },
          "metadata": {},
          "execution_count": 67
        }
      ]
    },
    {
      "cell_type": "code",
      "metadata": {
        "colab": {
          "base_uri": "https://localhost:8080/",
          "height": 717
        },
        "id": "VtntdY5xfywm",
        "outputId": "bf5faa6a-cf65-4b44-b713-da639253769d"
      },
      "source": [
        "klib.corr_plot(loan_pred_train) # returns a color-encoded heatmap, ideal for correlations"
      ],
      "execution_count": null,
      "outputs": [
        {
          "output_type": "execute_result",
          "data": {
            "text/plain": [
              "<matplotlib.axes._subplots.AxesSubplot at 0x7ff278443bd0>"
            ]
          },
          "metadata": {},
          "execution_count": 68
        },
        {
          "output_type": "display_data",
          "data": {
            "image/png": "[encoded data removed]",
            "text/plain": [
              "<Figure size 864x720 with 2 Axes>"
            ]
          },
          "metadata": {
            "needs_background": "light"
          }
        }
      ]
    },
    {
      "cell_type": "code",
      "metadata": {
        "colab": {
          "base_uri": "https://localhost:8080/",
          "height": 895
        },
        "id": "y5xk4bsFgWxo",
        "outputId": "01b6ad84-f527-4490-9314-5b2b1af13120"
      },
      "source": [
        "klib.dist_plot(loan_pred_train) # returns a distribution plot for every numeric feature"
      ],
      "execution_count": null,
      "outputs": [
        {
          "output_type": "execute_result",
          "data": {
            "text/plain": [
              "<matplotlib.axes._subplots.AxesSubplot at 0x7ff2781e6110>"
            ]
          },
          "metadata": {},
          "execution_count": 69
        },
        {
          "output_type": "display_data",
          "data": {
            "image/png": "[encoded data removed]",
            "text/plain": [
              "<Figure size 900x180 with 1 Axes>"
            ]
          },
          "metadata": {
            "needs_background": "light"
          }
        },
        {
          "output_type": "display_data",
          "data": {
            "image/png": "[encoded data removed]",
            "text/plain": [
              "<Figure size 900x180 with 1 Axes>"
            ]
          },
          "metadata": {
            "needs_background": "light"
          }
        },
        {
          "output_type": "display_data",
          "data": {
            "image/png": "[encoded data removed]",
            "text/plain": [
              "<Figure size 900x180 with 1 Axes>"
            ]
          },
          "metadata": {
            "needs_background": "light"
          }
        },
        {
          "output_type": "display_data",
          "data": {
            "image/png": "[encoded data removed]",
            "text/plain": [
              "<Figure size 900x180 with 1 Axes>"
            ]
          },
          "metadata": {
            "needs_background": "light"
          }
        },
        {
          "output_type": "display_data",
          "data": {
            "image/png": "[encoded data removed]",
            "text/plain": [
              "<Figure size 900x180 with 1 Axes>"
            ]
          },
          "metadata": {
            "needs_background": "light"
          }
        }
      ]
    },
    {
      "cell_type": "code",
      "metadata": {
        "colab": {
          "base_uri": "https://localhost:8080/"
        },
        "id": "ZERn3Y2GguoI",
        "outputId": "a3034aa2-bedf-40fb-cdb4-f6657a59613d"
      },
      "source": [
        "klib.missingval_plot(loan_pred_train) # returns a figure containing information about missing values"
      ],
      "execution_count": null,
      "outputs": [
        {
          "output_type": "stream",
          "name": "stdout",
          "text": [
            "No missing values found in the dataset.\n"
          ]
        }
      ]
    },
    {
      "cell_type": "code",
      "metadata": {
        "id": "46gVmFk_gDJB"
      },
      "source": [
        "# Label Encoding"
      ],
      "execution_count": null,
      "outputs": []
    },
    {
      "cell_type": "markdown",
      "metadata": {
        "id": "Xa_OZUfIgJSM"
      },
      "source": [
        "**Label** **Encoding** **for** **categorical** **data**"
      ]
    },
    {
      "cell_type": "code",
      "metadata": {
        "id": "gCJdb-FrgIcy"
      },
      "source": [
        "from sklearn.preprocessing import LabelEncoder\n",
        "le=LabelEncoder()"
      ],
      "execution_count": null,
      "outputs": []
    },
    {
      "cell_type": "code",
      "metadata": {
        "colab": {
          "base_uri": "https://localhost:8080/"
        },
        "id": "r0N6qjVvhCsA",
        "outputId": "28bf0ddf-91a2-4633-e52e-f236c0948d83"
      },
      "source": [
        "loan_pred_train.info()"
      ],
      "execution_count": null,
      "outputs": [
        {
          "output_type": "stream",
          "name": "stdout",
          "text": [
            "<class 'pandas.core.frame.DataFrame'>\n",
            "RangeIndex: 592 entries, 0 to 591\n",
            "Data columns (total 12 columns):\n",
            " #   Column             Non-Null Count  Dtype  \n",
            "---  ------             --------------  -----  \n",
            " 0   Gender             592 non-null    object \n",
            " 1   Married            592 non-null    object \n",
            " 2   Dependents         592 non-null    int64  \n",
            " 3   Education          592 non-null    object \n",
            " 4   Self_Employed      592 non-null    object \n",
            " 5   ApplicantIncome    592 non-null    int64  \n",
            " 6   CoapplicantIncome  592 non-null    float64\n",
            " 7   LoanAmount         592 non-null    int64  \n",
            " 8   Loan_Amount_Term   592 non-null    int64  \n",
            " 9   Credit_History     592 non-null    int64  \n",
            " 10  Property_Area      592 non-null    object \n",
            " 11  Loan_Status        592 non-null    object \n",
            "dtypes: float64(1), int64(5), object(6)\n",
            "memory usage: 55.6+ KB\n"
          ]
        }
      ]
    },
    {
      "cell_type": "code",
      "metadata": {
        "colab": {
          "base_uri": "https://localhost:8080/",
          "height": 112
        },
        "id": "4ZDdgcRShu1C",
        "outputId": "51746027-1760-42b0-9c71-7b44753d4ba6"
      },
      "source": [
        "loan_pred_train.head(2)"
      ],
      "execution_count": null,
      "outputs": [
        {
          "output_type": "execute_result",
          "data": {
            "text/html": [
              "<div>\n",
              "<style scoped>\n",
              "    .dataframe tbody tr th:only-of-type {\n",
              "        vertical-align: middle;\n",
              "    }\n",
              "\n",
              "    .dataframe tbody tr th {\n",
              "        vertical-align: top;\n",
              "    }\n",
              "\n",
              "    .dataframe thead th {\n",
              "        text-align: right;\n",
              "    }\n",
              "</style>\n",
              "<table border=\"1\" class=\"dataframe\">\n",
              "  <thead>\n",
              "    <tr style=\"text-align: right;\">\n",
              "      <th></th>\n",
              "      <th>Gender</th>\n",
              "      <th>Married</th>\n",
              "      <th>Dependents</th>\n",
              "      <th>Education</th>\n",
              "      <th>Self_Employed</th>\n",
              "      <th>ApplicantIncome</th>\n",
              "      <th>CoapplicantIncome</th>\n",
              "      <th>LoanAmount</th>\n",
              "      <th>Loan_Amount_Term</th>\n",
              "      <th>Credit_History</th>\n",
              "      <th>Property_Area</th>\n",
              "      <th>Loan_Status</th>\n",
              "    </tr>\n",
              "  </thead>\n",
              "  <tbody>\n",
              "    <tr>\n",
              "      <th>0</th>\n",
              "      <td>Male</td>\n",
              "      <td>Yes</td>\n",
              "      <td>1</td>\n",
              "      <td>Graduate</td>\n",
              "      <td>No</td>\n",
              "      <td>4583</td>\n",
              "      <td>1508.0</td>\n",
              "      <td>128</td>\n",
              "      <td>360</td>\n",
              "      <td>1</td>\n",
              "      <td>Rural</td>\n",
              "      <td>N</td>\n",
              "    </tr>\n",
              "    <tr>\n",
              "      <th>1</th>\n",
              "      <td>Male</td>\n",
              "      <td>Yes</td>\n",
              "      <td>0</td>\n",
              "      <td>Graduate</td>\n",
              "      <td>Yes</td>\n",
              "      <td>3000</td>\n",
              "      <td>0.0</td>\n",
              "      <td>66</td>\n",
              "      <td>360</td>\n",
              "      <td>1</td>\n",
              "      <td>Urban</td>\n",
              "      <td>Y</td>\n",
              "    </tr>\n",
              "  </tbody>\n",
              "</table>\n",
              "</div>"
            ],
            "text/plain": [
              "  Gender Married  Dependents  ... Credit_History Property_Area  Loan_Status\n",
              "0   Male     Yes           1  ...              1         Rural            N\n",
              "1   Male     Yes           0  ...              1         Urban            Y\n",
              "\n",
              "[2 rows x 12 columns]"
            ]
          },
          "metadata": {},
          "execution_count": 73
        }
      ]
    },
    {
      "cell_type": "code",
      "metadata": {
        "id": "h--74NiOhR_K"
      },
      "source": [
        "loan_pred_train.Education=le.fit_transform(loan_pred_train.Education.values)\n",
        "loan_pred_train.Self_Employed=le.fit_transform(loan_pred_train.Self_Employed.values)\n",
        "loan_pred_train.Property_Area=le.fit_transform(loan_pred_train.Property_Area.values)\n",
        "loan_pred_train.Loan_Status=le.fit_transform(loan_pred_train.Loan_Status.values)\n",
        "loan_pred_train.Married=le.fit_transform(loan_pred_train.Married.values)\n",
        "loan_pred_train.Gender=le.fit_transform(loan_pred_train.Gender.values)\n"
      ],
      "execution_count": null,
      "outputs": []
    },
    {
      "cell_type": "code",
      "metadata": {
        "colab": {
          "base_uri": "https://localhost:8080/",
          "height": 423
        },
        "id": "r3SFFOBWjIgX",
        "outputId": "bfa3885b-6746-42c6-d6e7-9270ad645e54"
      },
      "source": [
        "loan_pred_train"
      ],
      "execution_count": null,
      "outputs": [
        {
          "output_type": "execute_result",
          "data": {
            "text/html": [
              "<div>\n",
              "<style scoped>\n",
              "    .dataframe tbody tr th:only-of-type {\n",
              "        vertical-align: middle;\n",
              "    }\n",
              "\n",
              "    .dataframe tbody tr th {\n",
              "        vertical-align: top;\n",
              "    }\n",
              "\n",
              "    .dataframe thead th {\n",
              "        text-align: right;\n",
              "    }\n",
              "</style>\n",
              "<table border=\"1\" class=\"dataframe\">\n",
              "  <thead>\n",
              "    <tr style=\"text-align: right;\">\n",
              "      <th></th>\n",
              "      <th>Gender</th>\n",
              "      <th>Married</th>\n",
              "      <th>Dependents</th>\n",
              "      <th>Education</th>\n",
              "      <th>Self_Employed</th>\n",
              "      <th>ApplicantIncome</th>\n",
              "      <th>CoapplicantIncome</th>\n",
              "      <th>LoanAmount</th>\n",
              "      <th>Loan_Amount_Term</th>\n",
              "      <th>Credit_History</th>\n",
              "      <th>Property_Area</th>\n",
              "      <th>Loan_Status</th>\n",
              "    </tr>\n",
              "  </thead>\n",
              "  <tbody>\n",
              "    <tr>\n",
              "      <th>0</th>\n",
              "      <td>1</td>\n",
              "      <td>1</td>\n",
              "      <td>1</td>\n",
              "      <td>0</td>\n",
              "      <td>0</td>\n",
              "      <td>4583</td>\n",
              "      <td>1508.0</td>\n",
              "      <td>128</td>\n",
              "      <td>360</td>\n",
              "      <td>1</td>\n",
              "      <td>0</td>\n",
              "      <td>0</td>\n",
              "    </tr>\n",
              "    <tr>\n",
              "      <th>1</th>\n",
              "      <td>1</td>\n",
              "      <td>1</td>\n",
              "      <td>0</td>\n",
              "      <td>0</td>\n",
              "      <td>1</td>\n",
              "      <td>3000</td>\n",
              "      <td>0.0</td>\n",
              "      <td>66</td>\n",
              "      <td>360</td>\n",
              "      <td>1</td>\n",
              "      <td>2</td>\n",
              "      <td>1</td>\n",
              "    </tr>\n",
              "    <tr>\n",
              "      <th>2</th>\n",
              "      <td>1</td>\n",
              "      <td>1</td>\n",
              "      <td>0</td>\n",
              "      <td>1</td>\n",
              "      <td>0</td>\n",
              "      <td>2583</td>\n",
              "      <td>2358.0</td>\n",
              "      <td>120</td>\n",
              "      <td>360</td>\n",
              "      <td>1</td>\n",
              "      <td>2</td>\n",
              "      <td>1</td>\n",
              "    </tr>\n",
              "    <tr>\n",
              "      <th>3</th>\n",
              "      <td>1</td>\n",
              "      <td>0</td>\n",
              "      <td>0</td>\n",
              "      <td>0</td>\n",
              "      <td>0</td>\n",
              "      <td>6000</td>\n",
              "      <td>0.0</td>\n",
              "      <td>141</td>\n",
              "      <td>360</td>\n",
              "      <td>1</td>\n",
              "      <td>2</td>\n",
              "      <td>1</td>\n",
              "    </tr>\n",
              "    <tr>\n",
              "      <th>4</th>\n",
              "      <td>1</td>\n",
              "      <td>1</td>\n",
              "      <td>2</td>\n",
              "      <td>0</td>\n",
              "      <td>1</td>\n",
              "      <td>5417</td>\n",
              "      <td>4196.0</td>\n",
              "      <td>267</td>\n",
              "      <td>360</td>\n",
              "      <td>1</td>\n",
              "      <td>2</td>\n",
              "      <td>1</td>\n",
              "    </tr>\n",
              "    <tr>\n",
              "      <th>...</th>\n",
              "      <td>...</td>\n",
              "      <td>...</td>\n",
              "      <td>...</td>\n",
              "      <td>...</td>\n",
              "      <td>...</td>\n",
              "      <td>...</td>\n",
              "      <td>...</td>\n",
              "      <td>...</td>\n",
              "      <td>...</td>\n",
              "      <td>...</td>\n",
              "      <td>...</td>\n",
              "      <td>...</td>\n",
              "    </tr>\n",
              "    <tr>\n",
              "      <th>587</th>\n",
              "      <td>0</td>\n",
              "      <td>0</td>\n",
              "      <td>0</td>\n",
              "      <td>0</td>\n",
              "      <td>0</td>\n",
              "      <td>2900</td>\n",
              "      <td>0.0</td>\n",
              "      <td>71</td>\n",
              "      <td>360</td>\n",
              "      <td>1</td>\n",
              "      <td>0</td>\n",
              "      <td>1</td>\n",
              "    </tr>\n",
              "    <tr>\n",
              "      <th>588</th>\n",
              "      <td>1</td>\n",
              "      <td>1</td>\n",
              "      <td>4</td>\n",
              "      <td>0</td>\n",
              "      <td>0</td>\n",
              "      <td>4106</td>\n",
              "      <td>0.0</td>\n",
              "      <td>40</td>\n",
              "      <td>180</td>\n",
              "      <td>1</td>\n",
              "      <td>0</td>\n",
              "      <td>1</td>\n",
              "    </tr>\n",
              "    <tr>\n",
              "      <th>589</th>\n",
              "      <td>1</td>\n",
              "      <td>1</td>\n",
              "      <td>1</td>\n",
              "      <td>0</td>\n",
              "      <td>0</td>\n",
              "      <td>8072</td>\n",
              "      <td>240.0</td>\n",
              "      <td>253</td>\n",
              "      <td>360</td>\n",
              "      <td>1</td>\n",
              "      <td>2</td>\n",
              "      <td>1</td>\n",
              "    </tr>\n",
              "    <tr>\n",
              "      <th>590</th>\n",
              "      <td>1</td>\n",
              "      <td>1</td>\n",
              "      <td>2</td>\n",
              "      <td>0</td>\n",
              "      <td>0</td>\n",
              "      <td>7583</td>\n",
              "      <td>0.0</td>\n",
              "      <td>187</td>\n",
              "      <td>360</td>\n",
              "      <td>1</td>\n",
              "      <td>2</td>\n",
              "      <td>1</td>\n",
              "    </tr>\n",
              "    <tr>\n",
              "      <th>591</th>\n",
              "      <td>0</td>\n",
              "      <td>0</td>\n",
              "      <td>0</td>\n",
              "      <td>0</td>\n",
              "      <td>1</td>\n",
              "      <td>4583</td>\n",
              "      <td>0.0</td>\n",
              "      <td>133</td>\n",
              "      <td>360</td>\n",
              "      <td>0</td>\n",
              "      <td>1</td>\n",
              "      <td>0</td>\n",
              "    </tr>\n",
              "  </tbody>\n",
              "</table>\n",
              "<p>592 rows × 12 columns</p>\n",
              "</div>"
            ],
            "text/plain": [
              "     Gender  Married  Dependents  ...  Credit_History  Property_Area  Loan_Status\n",
              "0         1        1           1  ...               1              0            0\n",
              "1         1        1           0  ...               1              2            1\n",
              "2         1        1           0  ...               1              2            1\n",
              "3         1        0           0  ...               1              2            1\n",
              "4         1        1           2  ...               1              2            1\n",
              "..      ...      ...         ...  ...             ...            ...          ...\n",
              "587       0        0           0  ...               1              0            1\n",
              "588       1        1           4  ...               1              0            1\n",
              "589       1        1           1  ...               1              2            1\n",
              "590       1        1           2  ...               1              2            1\n",
              "591       0        0           0  ...               0              1            0\n",
              "\n",
              "[592 rows x 12 columns]"
            ]
          },
          "metadata": {},
          "execution_count": 75
        }
      ]
    },
    {
      "cell_type": "code",
      "metadata": {
        "id": "EHDbhMOvi6uU"
      },
      "source": [
        "loan_pred_test.Education=le.fit_transform(loan_pred_test.Education.values)\n",
        "loan_pred_test.Self_Employed=le.fit_transform(loan_pred_test.Self_Employed.values)\n",
        "loan_pred_test.Property_Area=le.fit_transform(loan_pred_test.Property_Area.values)\n",
        "loan_pred_test.Married=le.fit_transform(loan_pred_test.Married.values)\n",
        "loan_pred_test.Gender=le.fit_transform(loan_pred_test.Gender.values)"
      ],
      "execution_count": null,
      "outputs": []
    },
    {
      "cell_type": "code",
      "metadata": {
        "colab": {
          "base_uri": "https://localhost:8080/",
          "height": 423
        },
        "id": "Agjf6LNwjnCz",
        "outputId": "fb532390-1977-4359-eb01-d8dad88d58b5"
      },
      "source": [
        "loan_pred_test"
      ],
      "execution_count": null,
      "outputs": [
        {
          "output_type": "execute_result",
          "data": {
            "text/html": [
              "<div>\n",
              "<style scoped>\n",
              "    .dataframe tbody tr th:only-of-type {\n",
              "        vertical-align: middle;\n",
              "    }\n",
              "\n",
              "    .dataframe tbody tr th {\n",
              "        vertical-align: top;\n",
              "    }\n",
              "\n",
              "    .dataframe thead th {\n",
              "        text-align: right;\n",
              "    }\n",
              "</style>\n",
              "<table border=\"1\" class=\"dataframe\">\n",
              "  <thead>\n",
              "    <tr style=\"text-align: right;\">\n",
              "      <th></th>\n",
              "      <th>Gender</th>\n",
              "      <th>Married</th>\n",
              "      <th>Dependents</th>\n",
              "      <th>Education</th>\n",
              "      <th>Self_Employed</th>\n",
              "      <th>ApplicantIncome</th>\n",
              "      <th>CoapplicantIncome</th>\n",
              "      <th>LoanAmount</th>\n",
              "      <th>Loan_Amount_Term</th>\n",
              "      <th>Credit_History</th>\n",
              "      <th>Property_Area</th>\n",
              "    </tr>\n",
              "  </thead>\n",
              "  <tbody>\n",
              "    <tr>\n",
              "      <th>0</th>\n",
              "      <td>1</td>\n",
              "      <td>1</td>\n",
              "      <td>0</td>\n",
              "      <td>0</td>\n",
              "      <td>0</td>\n",
              "      <td>5720</td>\n",
              "      <td>0</td>\n",
              "      <td>110</td>\n",
              "      <td>360</td>\n",
              "      <td>1</td>\n",
              "      <td>2</td>\n",
              "    </tr>\n",
              "    <tr>\n",
              "      <th>1</th>\n",
              "      <td>1</td>\n",
              "      <td>1</td>\n",
              "      <td>1</td>\n",
              "      <td>0</td>\n",
              "      <td>0</td>\n",
              "      <td>3076</td>\n",
              "      <td>1500</td>\n",
              "      <td>126</td>\n",
              "      <td>360</td>\n",
              "      <td>1</td>\n",
              "      <td>2</td>\n",
              "    </tr>\n",
              "    <tr>\n",
              "      <th>2</th>\n",
              "      <td>1</td>\n",
              "      <td>1</td>\n",
              "      <td>2</td>\n",
              "      <td>0</td>\n",
              "      <td>0</td>\n",
              "      <td>5000</td>\n",
              "      <td>1800</td>\n",
              "      <td>208</td>\n",
              "      <td>360</td>\n",
              "      <td>1</td>\n",
              "      <td>2</td>\n",
              "    </tr>\n",
              "    <tr>\n",
              "      <th>3</th>\n",
              "      <td>1</td>\n",
              "      <td>1</td>\n",
              "      <td>2</td>\n",
              "      <td>0</td>\n",
              "      <td>0</td>\n",
              "      <td>2340</td>\n",
              "      <td>2546</td>\n",
              "      <td>100</td>\n",
              "      <td>360</td>\n",
              "      <td>1</td>\n",
              "      <td>2</td>\n",
              "    </tr>\n",
              "    <tr>\n",
              "      <th>4</th>\n",
              "      <td>1</td>\n",
              "      <td>0</td>\n",
              "      <td>0</td>\n",
              "      <td>1</td>\n",
              "      <td>0</td>\n",
              "      <td>3276</td>\n",
              "      <td>0</td>\n",
              "      <td>78</td>\n",
              "      <td>360</td>\n",
              "      <td>1</td>\n",
              "      <td>2</td>\n",
              "    </tr>\n",
              "    <tr>\n",
              "      <th>...</th>\n",
              "      <td>...</td>\n",
              "      <td>...</td>\n",
              "      <td>...</td>\n",
              "      <td>...</td>\n",
              "      <td>...</td>\n",
              "      <td>...</td>\n",
              "      <td>...</td>\n",
              "      <td>...</td>\n",
              "      <td>...</td>\n",
              "      <td>...</td>\n",
              "      <td>...</td>\n",
              "    </tr>\n",
              "    <tr>\n",
              "      <th>362</th>\n",
              "      <td>1</td>\n",
              "      <td>1</td>\n",
              "      <td>4</td>\n",
              "      <td>1</td>\n",
              "      <td>1</td>\n",
              "      <td>4009</td>\n",
              "      <td>1777</td>\n",
              "      <td>113</td>\n",
              "      <td>360</td>\n",
              "      <td>1</td>\n",
              "      <td>2</td>\n",
              "    </tr>\n",
              "    <tr>\n",
              "      <th>363</th>\n",
              "      <td>1</td>\n",
              "      <td>1</td>\n",
              "      <td>0</td>\n",
              "      <td>0</td>\n",
              "      <td>0</td>\n",
              "      <td>4158</td>\n",
              "      <td>709</td>\n",
              "      <td>115</td>\n",
              "      <td>360</td>\n",
              "      <td>1</td>\n",
              "      <td>2</td>\n",
              "    </tr>\n",
              "    <tr>\n",
              "      <th>364</th>\n",
              "      <td>1</td>\n",
              "      <td>0</td>\n",
              "      <td>0</td>\n",
              "      <td>0</td>\n",
              "      <td>0</td>\n",
              "      <td>3250</td>\n",
              "      <td>1993</td>\n",
              "      <td>126</td>\n",
              "      <td>360</td>\n",
              "      <td>1</td>\n",
              "      <td>1</td>\n",
              "    </tr>\n",
              "    <tr>\n",
              "      <th>365</th>\n",
              "      <td>1</td>\n",
              "      <td>1</td>\n",
              "      <td>0</td>\n",
              "      <td>0</td>\n",
              "      <td>0</td>\n",
              "      <td>5000</td>\n",
              "      <td>2393</td>\n",
              "      <td>158</td>\n",
              "      <td>360</td>\n",
              "      <td>1</td>\n",
              "      <td>0</td>\n",
              "    </tr>\n",
              "    <tr>\n",
              "      <th>366</th>\n",
              "      <td>1</td>\n",
              "      <td>0</td>\n",
              "      <td>0</td>\n",
              "      <td>0</td>\n",
              "      <td>1</td>\n",
              "      <td>9200</td>\n",
              "      <td>0</td>\n",
              "      <td>98</td>\n",
              "      <td>180</td>\n",
              "      <td>1</td>\n",
              "      <td>0</td>\n",
              "    </tr>\n",
              "  </tbody>\n",
              "</table>\n",
              "<p>367 rows × 11 columns</p>\n",
              "</div>"
            ],
            "text/plain": [
              "     Gender  Married  ...  Credit_History  Property_Area\n",
              "0         1        1  ...               1              2\n",
              "1         1        1  ...               1              2\n",
              "2         1        1  ...               1              2\n",
              "3         1        1  ...               1              2\n",
              "4         1        0  ...               1              2\n",
              "..      ...      ...  ...             ...            ...\n",
              "362       1        1  ...               1              2\n",
              "363       1        1  ...               1              2\n",
              "364       1        0  ...               1              1\n",
              "365       1        1  ...               1              0\n",
              "366       1        0  ...               1              0\n",
              "\n",
              "[367 rows x 11 columns]"
            ]
          },
          "metadata": {},
          "execution_count": 77
        }
      ]
    },
    {
      "cell_type": "markdown",
      "metadata": {
        "id": "QFlv2wAvj8z4"
      },
      "source": [
        "Splitting the dataset into train and test"
      ]
    },
    {
      "cell_type": "code",
      "metadata": {
        "id": "j2U4XHv7kI5Z"
      },
      "source": [
        "X=loan_pred_train.drop('Loan_Status',axis=1)"
      ],
      "execution_count": null,
      "outputs": []
    },
    {
      "cell_type": "code",
      "metadata": {
        "id": "ty2v321nkTLi"
      },
      "source": [
        "Y=loan_pred_train['Loan_Status']"
      ],
      "execution_count": null,
      "outputs": []
    },
    {
      "cell_type": "code",
      "metadata": {
        "colab": {
          "base_uri": "https://localhost:8080/",
          "height": 423
        },
        "id": "zn_5P4XqkcRA",
        "outputId": "34aaa1ef-ee02-4f10-a3dd-dc82423b1057"
      },
      "source": [
        "X"
      ],
      "execution_count": null,
      "outputs": [
        {
          "output_type": "execute_result",
          "data": {
            "text/html": [
              "<div>\n",
              "<style scoped>\n",
              "    .dataframe tbody tr th:only-of-type {\n",
              "        vertical-align: middle;\n",
              "    }\n",
              "\n",
              "    .dataframe tbody tr th {\n",
              "        vertical-align: top;\n",
              "    }\n",
              "\n",
              "    .dataframe thead th {\n",
              "        text-align: right;\n",
              "    }\n",
              "</style>\n",
              "<table border=\"1\" class=\"dataframe\">\n",
              "  <thead>\n",
              "    <tr style=\"text-align: right;\">\n",
              "      <th></th>\n",
              "      <th>Gender</th>\n",
              "      <th>Married</th>\n",
              "      <th>Dependents</th>\n",
              "      <th>Education</th>\n",
              "      <th>Self_Employed</th>\n",
              "      <th>ApplicantIncome</th>\n",
              "      <th>CoapplicantIncome</th>\n",
              "      <th>LoanAmount</th>\n",
              "      <th>Loan_Amount_Term</th>\n",
              "      <th>Credit_History</th>\n",
              "      <th>Property_Area</th>\n",
              "    </tr>\n",
              "  </thead>\n",
              "  <tbody>\n",
              "    <tr>\n",
              "      <th>0</th>\n",
              "      <td>1</td>\n",
              "      <td>1</td>\n",
              "      <td>1</td>\n",
              "      <td>0</td>\n",
              "      <td>0</td>\n",
              "      <td>4583</td>\n",
              "      <td>1508.0</td>\n",
              "      <td>128</td>\n",
              "      <td>360</td>\n",
              "      <td>1</td>\n",
              "      <td>0</td>\n",
              "    </tr>\n",
              "    <tr>\n",
              "      <th>1</th>\n",
              "      <td>1</td>\n",
              "      <td>1</td>\n",
              "      <td>0</td>\n",
              "      <td>0</td>\n",
              "      <td>1</td>\n",
              "      <td>3000</td>\n",
              "      <td>0.0</td>\n",
              "      <td>66</td>\n",
              "      <td>360</td>\n",
              "      <td>1</td>\n",
              "      <td>2</td>\n",
              "    </tr>\n",
              "    <tr>\n",
              "      <th>2</th>\n",
              "      <td>1</td>\n",
              "      <td>1</td>\n",
              "      <td>0</td>\n",
              "      <td>1</td>\n",
              "      <td>0</td>\n",
              "      <td>2583</td>\n",
              "      <td>2358.0</td>\n",
              "      <td>120</td>\n",
              "      <td>360</td>\n",
              "      <td>1</td>\n",
              "      <td>2</td>\n",
              "    </tr>\n",
              "    <tr>\n",
              "      <th>3</th>\n",
              "      <td>1</td>\n",
              "      <td>0</td>\n",
              "      <td>0</td>\n",
              "      <td>0</td>\n",
              "      <td>0</td>\n",
              "      <td>6000</td>\n",
              "      <td>0.0</td>\n",
              "      <td>141</td>\n",
              "      <td>360</td>\n",
              "      <td>1</td>\n",
              "      <td>2</td>\n",
              "    </tr>\n",
              "    <tr>\n",
              "      <th>4</th>\n",
              "      <td>1</td>\n",
              "      <td>1</td>\n",
              "      <td>2</td>\n",
              "      <td>0</td>\n",
              "      <td>1</td>\n",
              "      <td>5417</td>\n",
              "      <td>4196.0</td>\n",
              "      <td>267</td>\n",
              "      <td>360</td>\n",
              "      <td>1</td>\n",
              "      <td>2</td>\n",
              "    </tr>\n",
              "    <tr>\n",
              "      <th>...</th>\n",
              "      <td>...</td>\n",
              "      <td>...</td>\n",
              "      <td>...</td>\n",
              "      <td>...</td>\n",
              "      <td>...</td>\n",
              "      <td>...</td>\n",
              "      <td>...</td>\n",
              "      <td>...</td>\n",
              "      <td>...</td>\n",
              "      <td>...</td>\n",
              "      <td>...</td>\n",
              "    </tr>\n",
              "    <tr>\n",
              "      <th>587</th>\n",
              "      <td>0</td>\n",
              "      <td>0</td>\n",
              "      <td>0</td>\n",
              "      <td>0</td>\n",
              "      <td>0</td>\n",
              "      <td>2900</td>\n",
              "      <td>0.0</td>\n",
              "      <td>71</td>\n",
              "      <td>360</td>\n",
              "      <td>1</td>\n",
              "      <td>0</td>\n",
              "    </tr>\n",
              "    <tr>\n",
              "      <th>588</th>\n",
              "      <td>1</td>\n",
              "      <td>1</td>\n",
              "      <td>4</td>\n",
              "      <td>0</td>\n",
              "      <td>0</td>\n",
              "      <td>4106</td>\n",
              "      <td>0.0</td>\n",
              "      <td>40</td>\n",
              "      <td>180</td>\n",
              "      <td>1</td>\n",
              "      <td>0</td>\n",
              "    </tr>\n",
              "    <tr>\n",
              "      <th>589</th>\n",
              "      <td>1</td>\n",
              "      <td>1</td>\n",
              "      <td>1</td>\n",
              "      <td>0</td>\n",
              "      <td>0</td>\n",
              "      <td>8072</td>\n",
              "      <td>240.0</td>\n",
              "      <td>253</td>\n",
              "      <td>360</td>\n",
              "      <td>1</td>\n",
              "      <td>2</td>\n",
              "    </tr>\n",
              "    <tr>\n",
              "      <th>590</th>\n",
              "      <td>1</td>\n",
              "      <td>1</td>\n",
              "      <td>2</td>\n",
              "      <td>0</td>\n",
              "      <td>0</td>\n",
              "      <td>7583</td>\n",
              "      <td>0.0</td>\n",
              "      <td>187</td>\n",
              "      <td>360</td>\n",
              "      <td>1</td>\n",
              "      <td>2</td>\n",
              "    </tr>\n",
              "    <tr>\n",
              "      <th>591</th>\n",
              "      <td>0</td>\n",
              "      <td>0</td>\n",
              "      <td>0</td>\n",
              "      <td>0</td>\n",
              "      <td>1</td>\n",
              "      <td>4583</td>\n",
              "      <td>0.0</td>\n",
              "      <td>133</td>\n",
              "      <td>360</td>\n",
              "      <td>0</td>\n",
              "      <td>1</td>\n",
              "    </tr>\n",
              "  </tbody>\n",
              "</table>\n",
              "<p>592 rows × 11 columns</p>\n",
              "</div>"
            ],
            "text/plain": [
              "     Gender  Married  ...  Credit_History  Property_Area\n",
              "0         1        1  ...               1              0\n",
              "1         1        1  ...               1              2\n",
              "2         1        1  ...               1              2\n",
              "3         1        0  ...               1              2\n",
              "4         1        1  ...               1              2\n",
              "..      ...      ...  ...             ...            ...\n",
              "587       0        0  ...               1              0\n",
              "588       1        1  ...               1              0\n",
              "589       1        1  ...               1              2\n",
              "590       1        1  ...               1              2\n",
              "591       0        0  ...               0              1\n",
              "\n",
              "[592 rows x 11 columns]"
            ]
          },
          "metadata": {},
          "execution_count": 124
        }
      ]
    },
    {
      "cell_type": "code",
      "metadata": {
        "colab": {
          "base_uri": "https://localhost:8080/"
        },
        "id": "uGR0vTzzkelS",
        "outputId": "e88e2a43-7c9e-4e12-ba43-3379c1e7152a"
      },
      "source": [
        "Y"
      ],
      "execution_count": null,
      "outputs": [
        {
          "output_type": "execute_result",
          "data": {
            "text/plain": [
              "0      0\n",
              "1      1\n",
              "2      1\n",
              "3      1\n",
              "4      1\n",
              "      ..\n",
              "587    1\n",
              "588    1\n",
              "589    1\n",
              "590    1\n",
              "591    0\n",
              "Name: Loan_Status, Length: 592, dtype: int64"
            ]
          },
          "metadata": {},
          "execution_count": 125
        }
      ]
    },
    {
      "cell_type": "code",
      "metadata": {
        "id": "Zl4kyaSRjrSF"
      },
      "source": [
        "from sklearn.model_selection import train_test_split\n",
        "X_train,X_test,Y_train,Y_test=train_test_split(X,Y,random_state=101,test_size=0.1)"
      ],
      "execution_count": null,
      "outputs": []
    },
    {
      "cell_type": "code",
      "metadata": {
        "id": "peH3HqTMkhEk"
      },
      "source": [
        "from sklearn.linear_model import LogisticRegression\n",
        "lr=LogisticRegression()"
      ],
      "execution_count": null,
      "outputs": []
    },
    {
      "cell_type": "code",
      "metadata": {
        "colab": {
          "base_uri": "https://localhost:8080/"
        },
        "id": "-CwSPVIdk2g9",
        "outputId": "c523d40e-9dd6-4565-ca76-dbcb5af682bf"
      },
      "source": [
        "lr.fit(X_train,Y_train)"
      ],
      "execution_count": null,
      "outputs": [
        {
          "output_type": "stream",
          "name": "stderr",
          "text": [
            "/usr/local/lib/python3.7/dist-packages/sklearn/linear_model/_logistic.py:818: ConvergenceWarning: lbfgs failed to converge (status=1):\n",
            "STOP: TOTAL NO. of ITERATIONS REACHED LIMIT.\n",
            "\n",
            "Increase the number of iterations (max_iter) or scale the data as shown in:\n",
            "    https://scikit-learn.org/stable/modules/preprocessing.html\n",
            "Please also refer to the documentation for alternative solver options:\n",
            "    https://scikit-learn.org/stable/modules/linear_model.html#logistic-regression\n",
            "  extra_warning_msg=_LOGISTIC_SOLVER_CONVERGENCE_MSG,\n"
          ]
        },
        {
          "output_type": "execute_result",
          "data": {
            "text/plain": [
              "LogisticRegression()"
            ]
          },
          "metadata": {},
          "execution_count": 128
        }
      ]
    },
    {
      "cell_type": "code",
      "metadata": {
        "id": "yupxmcTqlMi4"
      },
      "source": [
        "y_predict_test=lr.predict(X_test)"
      ],
      "execution_count": null,
      "outputs": []
    },
    {
      "cell_type": "code",
      "metadata": {
        "colab": {
          "base_uri": "https://localhost:8080/"
        },
        "id": "U8f_0I3ylZ67",
        "outputId": "86fe362d-76e8-48ac-8d8c-9026fabfe5f0"
      },
      "source": [
        "Y_test"
      ],
      "execution_count": null,
      "outputs": [
        {
          "output_type": "execute_result",
          "data": {
            "text/plain": [
              "496    0\n",
              "410    1\n",
              "400    1\n",
              "443    1\n",
              "509    1\n",
              "24     1\n",
              "297    1\n",
              "346    0\n",
              "537    1\n",
              "168    0\n",
              "156    1\n",
              "118    1\n",
              "389    0\n",
              "181    1\n",
              "157    0\n",
              "130    0\n",
              "328    1\n",
              "39     1\n",
              "353    0\n",
              "117    1\n",
              "109    1\n",
              "320    1\n",
              "547    0\n",
              "479    1\n",
              "376    1\n",
              "218    1\n",
              "228    1\n",
              "201    0\n",
              "286    1\n",
              "312    0\n",
              "315    0\n",
              "107    1\n",
              "464    1\n",
              "58     1\n",
              "48     1\n",
              "128    1\n",
              "449    0\n",
              "420    1\n",
              "8      0\n",
              "176    1\n",
              "291    1\n",
              "16     0\n",
              "576    0\n",
              "257    1\n",
              "100    0\n",
              "411    0\n",
              "495    0\n",
              "72     0\n",
              "520    1\n",
              "33     0\n",
              "241    0\n",
              "590    1\n",
              "55     0\n",
              "437    1\n",
              "482    1\n",
              "18     1\n",
              "147    1\n",
              "319    1\n",
              "314    1\n",
              "173    1\n",
              "Name: Loan_Status, dtype: int64"
            ]
          },
          "metadata": {},
          "execution_count": 130
        }
      ]
    },
    {
      "cell_type": "code",
      "metadata": {
        "colab": {
          "base_uri": "https://localhost:8080/"
        },
        "id": "CBLCTSIqlc_X",
        "outputId": "edd6d204-ec60-4e88-9fb7-0d595fbd9e71"
      },
      "source": [
        "y_predict_test"
      ],
      "execution_count": null,
      "outputs": [
        {
          "output_type": "execute_result",
          "data": {
            "text/plain": [
              "array([1, 1, 1, 1, 1, 1, 1, 1, 1, 0, 1, 1, 1, 1, 1, 1, 1, 1, 0, 1, 1, 1,\n",
              "       1, 1, 1, 1, 1, 0, 1, 0, 1, 1, 1, 1, 1, 1, 0, 1, 1, 1, 1, 0, 0, 0,\n",
              "       1, 1, 1, 1, 1, 1, 1, 1, 1, 1, 1, 1, 1, 1, 1, 1])"
            ]
          },
          "metadata": {},
          "execution_count": 131
        }
      ]
    },
    {
      "cell_type": "code",
      "metadata": {
        "colab": {
          "base_uri": "https://localhost:8080/"
        },
        "id": "x2EbV8zSlo54",
        "outputId": "5e4eb36e-13da-4f93-d608-2d162678eb46"
      },
      "source": [
        "from sklearn.metrics import r2_score,mean_absolute_error,mean_squared_error\n",
        "print(r2_score(Y_test,y_predict_test))"
      ],
      "execution_count": null,
      "outputs": [
        {
          "output_type": "stream",
          "name": "stdout",
          "text": [
            "-0.14832535885167464\n"
          ]
        }
      ]
    },
    {
      "cell_type": "code",
      "metadata": {
        "id": "Qxf7woPplvC7"
      },
      "source": [
        "result_predict_lr=lr.predict(loan_pred_test)"
      ],
      "execution_count": null,
      "outputs": []
    },
    {
      "cell_type": "code",
      "metadata": {
        "id": "CUfgKEHlmATs"
      },
      "source": [
        "result_predict_lr_df=pd.DataFrame(result_predict_lr, columns =['Loan_Status'])"
      ],
      "execution_count": null,
      "outputs": []
    },
    {
      "cell_type": "code",
      "metadata": {
        "colab": {
          "base_uri": "https://localhost:8080/",
          "height": 423
        },
        "id": "NBz9C3KQmmUn",
        "outputId": "98a2b3c6-5eec-414c-b7fd-f71863c7695b"
      },
      "source": [
        "result_predict_lr_df"
      ],
      "execution_count": null,
      "outputs": [
        {
          "output_type": "execute_result",
          "data": {
            "text/html": [
              "<div>\n",
              "<style scoped>\n",
              "    .dataframe tbody tr th:only-of-type {\n",
              "        vertical-align: middle;\n",
              "    }\n",
              "\n",
              "    .dataframe tbody tr th {\n",
              "        vertical-align: top;\n",
              "    }\n",
              "\n",
              "    .dataframe thead th {\n",
              "        text-align: right;\n",
              "    }\n",
              "</style>\n",
              "<table border=\"1\" class=\"dataframe\">\n",
              "  <thead>\n",
              "    <tr style=\"text-align: right;\">\n",
              "      <th></th>\n",
              "      <th>Loan_Status</th>\n",
              "    </tr>\n",
              "  </thead>\n",
              "  <tbody>\n",
              "    <tr>\n",
              "      <th>0</th>\n",
              "      <td>1</td>\n",
              "    </tr>\n",
              "    <tr>\n",
              "      <th>1</th>\n",
              "      <td>1</td>\n",
              "    </tr>\n",
              "    <tr>\n",
              "      <th>2</th>\n",
              "      <td>1</td>\n",
              "    </tr>\n",
              "    <tr>\n",
              "      <th>3</th>\n",
              "      <td>1</td>\n",
              "    </tr>\n",
              "    <tr>\n",
              "      <th>4</th>\n",
              "      <td>1</td>\n",
              "    </tr>\n",
              "    <tr>\n",
              "      <th>...</th>\n",
              "      <td>...</td>\n",
              "    </tr>\n",
              "    <tr>\n",
              "      <th>362</th>\n",
              "      <td>1</td>\n",
              "    </tr>\n",
              "    <tr>\n",
              "      <th>363</th>\n",
              "      <td>1</td>\n",
              "    </tr>\n",
              "    <tr>\n",
              "      <th>364</th>\n",
              "      <td>1</td>\n",
              "    </tr>\n",
              "    <tr>\n",
              "      <th>365</th>\n",
              "      <td>1</td>\n",
              "    </tr>\n",
              "    <tr>\n",
              "      <th>366</th>\n",
              "      <td>1</td>\n",
              "    </tr>\n",
              "  </tbody>\n",
              "</table>\n",
              "<p>367 rows × 1 columns</p>\n",
              "</div>"
            ],
            "text/plain": [
              "     Loan_Status\n",
              "0              1\n",
              "1              1\n",
              "2              1\n",
              "3              1\n",
              "4              1\n",
              "..           ...\n",
              "362            1\n",
              "363            1\n",
              "364            1\n",
              "365            1\n",
              "366            1\n",
              "\n",
              "[367 rows x 1 columns]"
            ]
          },
          "metadata": {},
          "execution_count": 136
        }
      ]
    },
    {
      "cell_type": "code",
      "metadata": {
        "id": "fgkGfjw0mD8V"
      },
      "source": [
        "result_predict_lr_df.to_csv(r'C:\\Users\\Vimlesh.choudhary\\Desktop\\linearitem_loan_status_data3.csv')"
      ],
      "execution_count": null,
      "outputs": []
    },
    {
      "cell_type": "code",
      "metadata": {
        "id": "953vS4CKif8G"
      },
      "source": [
        "from sklearn.ensemble import RandomForestClassifier\n",
        "rc=RandomForestClassifier()"
      ],
      "execution_count": null,
      "outputs": []
    },
    {
      "cell_type": "code",
      "metadata": {
        "id": "wP1tqjD3oUuX"
      },
      "source": [
        "from sklearn.ensemble import RandomForestRegressor\n",
        "rf=RandomForestRegressor()"
      ],
      "execution_count": null,
      "outputs": []
    },
    {
      "cell_type": "code",
      "metadata": {
        "colab": {
          "base_uri": "https://localhost:8080/"
        },
        "id": "KKIS3wZIodkA",
        "outputId": "4d3fdb75-2829-4eb0-def5-0a3641935e2e"
      },
      "source": [
        "rc.fit(X_train,Y_train)"
      ],
      "execution_count": null,
      "outputs": [
        {
          "output_type": "execute_result",
          "data": {
            "text/plain": [
              "RandomForestClassifier()"
            ]
          },
          "metadata": {},
          "execution_count": 114
        }
      ]
    },
    {
      "cell_type": "code",
      "metadata": {
        "id": "Dv9F1DqVoiVM"
      },
      "source": [
        "y_predict_test_rc=rc.predict(X_test)"
      ],
      "execution_count": null,
      "outputs": []
    },
    {
      "cell_type": "code",
      "metadata": {
        "colab": {
          "base_uri": "https://localhost:8080/"
        },
        "id": "VFWR_W3DosGk",
        "outputId": "e476a6c6-b87c-47b5-9afb-2254b1ad4844"
      },
      "source": [
        "from sklearn.metrics import r2_score,mean_absolute_error,mean_squared_error\n",
        "print(r2_score(Y_test,y_predict_test_rc))"
      ],
      "execution_count": null,
      "outputs": [
        {
          "output_type": "stream",
          "name": "stdout",
          "text": [
            "0.11416861826697877\n"
          ]
        }
      ]
    },
    {
      "cell_type": "code",
      "metadata": {
        "id": "lxyXtuNso4K7"
      },
      "source": [
        "result_predict_rc=rc.predict(loan_pred_test)"
      ],
      "execution_count": null,
      "outputs": []
    },
    {
      "cell_type": "code",
      "metadata": {
        "id": "4SK9CY2EpGuJ"
      },
      "source": [
        "result_predict_rc_df=pd.DataFrame(result_predict_rc, columns =['Loan_Status'])"
      ],
      "execution_count": null,
      "outputs": []
    },
    {
      "cell_type": "code",
      "metadata": {
        "colab": {
          "base_uri": "https://localhost:8080/",
          "height": 423
        },
        "id": "CbG81cydpQuo",
        "outputId": "a3e2a624-7518-4095-a5f4-45f2e923cd56"
      },
      "source": [
        "result_predict_rc_df"
      ],
      "execution_count": null,
      "outputs": [
        {
          "output_type": "execute_result",
          "data": {
            "text/html": [
              "<div>\n",
              "<style scoped>\n",
              "    .dataframe tbody tr th:only-of-type {\n",
              "        vertical-align: middle;\n",
              "    }\n",
              "\n",
              "    .dataframe tbody tr th {\n",
              "        vertical-align: top;\n",
              "    }\n",
              "\n",
              "    .dataframe thead th {\n",
              "        text-align: right;\n",
              "    }\n",
              "</style>\n",
              "<table border=\"1\" class=\"dataframe\">\n",
              "  <thead>\n",
              "    <tr style=\"text-align: right;\">\n",
              "      <th></th>\n",
              "      <th>Loan_Status</th>\n",
              "    </tr>\n",
              "  </thead>\n",
              "  <tbody>\n",
              "    <tr>\n",
              "      <th>0</th>\n",
              "      <td>1</td>\n",
              "    </tr>\n",
              "    <tr>\n",
              "      <th>1</th>\n",
              "      <td>1</td>\n",
              "    </tr>\n",
              "    <tr>\n",
              "      <th>2</th>\n",
              "      <td>1</td>\n",
              "    </tr>\n",
              "    <tr>\n",
              "      <th>3</th>\n",
              "      <td>1</td>\n",
              "    </tr>\n",
              "    <tr>\n",
              "      <th>4</th>\n",
              "      <td>1</td>\n",
              "    </tr>\n",
              "    <tr>\n",
              "      <th>...</th>\n",
              "      <td>...</td>\n",
              "    </tr>\n",
              "    <tr>\n",
              "      <th>362</th>\n",
              "      <td>1</td>\n",
              "    </tr>\n",
              "    <tr>\n",
              "      <th>363</th>\n",
              "      <td>1</td>\n",
              "    </tr>\n",
              "    <tr>\n",
              "      <th>364</th>\n",
              "      <td>1</td>\n",
              "    </tr>\n",
              "    <tr>\n",
              "      <th>365</th>\n",
              "      <td>1</td>\n",
              "    </tr>\n",
              "    <tr>\n",
              "      <th>366</th>\n",
              "      <td>1</td>\n",
              "    </tr>\n",
              "  </tbody>\n",
              "</table>\n",
              "<p>367 rows × 1 columns</p>\n",
              "</div>"
            ],
            "text/plain": [
              "     Loan_Status\n",
              "0              1\n",
              "1              1\n",
              "2              1\n",
              "3              1\n",
              "4              1\n",
              "..           ...\n",
              "362            1\n",
              "363            1\n",
              "364            1\n",
              "365            1\n",
              "366            1\n",
              "\n",
              "[367 rows x 1 columns]"
            ]
          },
          "metadata": {},
          "execution_count": 119
        }
      ]
    },
    {
      "cell_type": "code",
      "metadata": {
        "id": "oIA_ucZhjVWC"
      },
      "source": [
        "result_predict_rc_df.to_csv(r'C:\\Users\\Vimlesh.choudhary\\Desktop\\randomforestclassifier1_loan_status_data.csv')"
      ],
      "execution_count": null,
      "outputs": []
    },
    {
      "cell_type": "markdown",
      "metadata": {
        "id": "x_AQK864vZlp"
      },
      "source": [
        "**Support** **Vector** **Machine** **Model** **Implementation**"
      ]
    },
    {
      "cell_type": "code",
      "metadata": {
        "id": "xwCQBqhwuOJ5"
      },
      "source": [
        "from sklearn.svm import SVC"
      ],
      "execution_count": null,
      "outputs": []
    },
    {
      "cell_type": "code",
      "metadata": {
        "id": "8phYOd-wuTcu"
      },
      "source": [
        "svc=SVC()"
      ],
      "execution_count": null,
      "outputs": []
    },
    {
      "cell_type": "code",
      "metadata": {
        "colab": {
          "base_uri": "https://localhost:8080/"
        },
        "id": "d2suNQbruedX",
        "outputId": "a98e3306-63b5-485e-b81d-1d594933c62a"
      },
      "source": [
        "svc.fit(X_train,Y_train)"
      ],
      "execution_count": null,
      "outputs": [
        {
          "output_type": "execute_result",
          "data": {
            "text/plain": [
              "SVC()"
            ]
          },
          "metadata": {},
          "execution_count": 142
        }
      ]
    },
    {
      "cell_type": "code",
      "metadata": {
        "id": "hGmKsoTfu08b"
      },
      "source": [
        "y_predict_svc=svc.predict(X_test)"
      ],
      "execution_count": null,
      "outputs": []
    },
    {
      "cell_type": "code",
      "metadata": {
        "colab": {
          "base_uri": "https://localhost:8080/"
        },
        "id": "cJrRMhmXuzKa",
        "outputId": "6f2bf294-2164-49e8-9597-b9c051598da3"
      },
      "source": [
        "from sklearn.metrics import r2_score,mean_absolute_error,mean_squared_error\n",
        "print(r2_score(Y_test,y_predict_svc))"
      ],
      "execution_count": null,
      "outputs": [
        {
          "output_type": "stream",
          "name": "stdout",
          "text": [
            "-0.5789473684210527\n"
          ]
        }
      ]
    },
    {
      "cell_type": "code",
      "metadata": {
        "colab": {
          "base_uri": "https://localhost:8080/"
        },
        "id": "HZ_cR3Qgulip",
        "outputId": "a5885499-c95f-4c44-fb5a-576a2f42a0c1"
      },
      "source": [
        "svc.score(X_test,Y_test)"
      ],
      "execution_count": null,
      "outputs": [
        {
          "output_type": "execute_result",
          "data": {
            "text/plain": [
              "0.6333333333333333"
            ]
          },
          "metadata": {},
          "execution_count": 143
        }
      ]
    },
    {
      "cell_type": "code",
      "metadata": {
        "id": "aR1vWI74utY6"
      },
      "source": [
        "result_predict_svc=svc.predict(loan_pred_test)"
      ],
      "execution_count": null,
      "outputs": []
    },
    {
      "cell_type": "code",
      "metadata": {
        "id": "v1qENebXvLe5"
      },
      "source": [
        "result_predict_svc_df=pd.DataFrame(result_predict_svc, columns =['Loan_Status'])"
      ],
      "execution_count": null,
      "outputs": []
    },
    {
      "cell_type": "code",
      "metadata": {
        "colab": {
          "base_uri": "https://localhost:8080/",
          "height": 423
        },
        "id": "vCPQnT8YvUww",
        "outputId": "e7d091d3-a8bd-41ad-bebd-c0e821c9a6f7"
      },
      "source": [
        "result_predict_svc_df"
      ],
      "execution_count": null,
      "outputs": [
        {
          "output_type": "execute_result",
          "data": {
            "text/html": [
              "<div>\n",
              "<style scoped>\n",
              "    .dataframe tbody tr th:only-of-type {\n",
              "        vertical-align: middle;\n",
              "    }\n",
              "\n",
              "    .dataframe tbody tr th {\n",
              "        vertical-align: top;\n",
              "    }\n",
              "\n",
              "    .dataframe thead th {\n",
              "        text-align: right;\n",
              "    }\n",
              "</style>\n",
              "<table border=\"1\" class=\"dataframe\">\n",
              "  <thead>\n",
              "    <tr style=\"text-align: right;\">\n",
              "      <th></th>\n",
              "      <th>Loan_Status</th>\n",
              "    </tr>\n",
              "  </thead>\n",
              "  <tbody>\n",
              "    <tr>\n",
              "      <th>0</th>\n",
              "      <td>1</td>\n",
              "    </tr>\n",
              "    <tr>\n",
              "      <th>1</th>\n",
              "      <td>1</td>\n",
              "    </tr>\n",
              "    <tr>\n",
              "      <th>2</th>\n",
              "      <td>1</td>\n",
              "    </tr>\n",
              "    <tr>\n",
              "      <th>3</th>\n",
              "      <td>1</td>\n",
              "    </tr>\n",
              "    <tr>\n",
              "      <th>4</th>\n",
              "      <td>1</td>\n",
              "    </tr>\n",
              "    <tr>\n",
              "      <th>...</th>\n",
              "      <td>...</td>\n",
              "    </tr>\n",
              "    <tr>\n",
              "      <th>362</th>\n",
              "      <td>1</td>\n",
              "    </tr>\n",
              "    <tr>\n",
              "      <th>363</th>\n",
              "      <td>1</td>\n",
              "    </tr>\n",
              "    <tr>\n",
              "      <th>364</th>\n",
              "      <td>1</td>\n",
              "    </tr>\n",
              "    <tr>\n",
              "      <th>365</th>\n",
              "      <td>1</td>\n",
              "    </tr>\n",
              "    <tr>\n",
              "      <th>366</th>\n",
              "      <td>1</td>\n",
              "    </tr>\n",
              "  </tbody>\n",
              "</table>\n",
              "<p>367 rows × 1 columns</p>\n",
              "</div>"
            ],
            "text/plain": [
              "     Loan_Status\n",
              "0              1\n",
              "1              1\n",
              "2              1\n",
              "3              1\n",
              "4              1\n",
              "..           ...\n",
              "362            1\n",
              "363            1\n",
              "364            1\n",
              "365            1\n",
              "366            1\n",
              "\n",
              "[367 rows x 1 columns]"
            ]
          },
          "metadata": {},
          "execution_count": 148
        }
      ]
    },
    {
      "cell_type": "code",
      "metadata": {
        "id": "psW741U2vXoy"
      },
      "source": [
        "result_predict_svc_df.to_csv(r'C:\\Users\\Vimlesh.choudhary\\Desktop\\svmsvc_loan_status_data.csv')"
      ],
      "execution_count": null,
      "outputs": []
    }
  ]
}